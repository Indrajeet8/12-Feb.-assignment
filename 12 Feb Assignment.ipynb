{
 "cells": [
  {
   "cell_type": "markdown",
   "id": "8ee93b9d-06db-4c45-b690-c624c9dc8d93",
   "metadata": {},
   "source": [
    "# Exception handling-1"
   ]
  },
  {
   "cell_type": "markdown",
   "id": "ceb2a766-18a1-44f6-beaf-0c01dd8b9853",
   "metadata": {},
   "source": [
    "## Assignment Questions"
   ]
  },
  {
   "cell_type": "raw",
   "id": "78b26381-600d-4990-8e1d-dabe0be4ad73",
   "metadata": {},
   "source": []
  },
  {
   "cell_type": "raw",
   "id": "8b1747bb-3c69-4774-b163-9d72da5a3870",
   "metadata": {},
   "source": [
    "Q1. what is an Eception in python  , write the diffrence between Eceptionand syntax error \n"
   ]
  },
  {
   "cell_type": "markdown",
   "id": "e1650b4c-4e1f-4883-baa7-0ad6624f8eb1",
   "metadata": {},
   "source": [
    "An error is an issue in a program that prevents the program from completing its task. In comparison, an exception is a condition that interrupts the normal flow of the program. Both errors and exceptions are a type of runtime error, which means they occur during the execution of a program"
   ]
  },
  {
   "cell_type": "code",
   "execution_count": null,
   "id": "dd4b1deb-4af3-4c01-a660-e0ee44dae2a7",
   "metadata": {},
   "outputs": [],
   "source": []
  },
  {
   "cell_type": "raw",
   "id": "430bc680-5718-4cb6-abff-5bbc2c9b0390",
   "metadata": {},
   "source": [
    "Q2. what happens when an exception s not handled explain with an example "
   ]
  },
  {
   "cell_type": "markdown",
   "id": "8dcb3230-c406-48dd-bfa1-b2673fa949f6",
   "metadata": {},
   "source": [
    "if you don't handle exceptions\n",
    "When an exception occurred, if you don't handle it, the program terminates abruptly and the code past the line that caused the exception will not get executed.0"
   ]
  },
  {
   "cell_type": "code",
   "execution_count": null,
   "id": "507d9748-f081-4fbf-bde1-2c2f691e1f5f",
   "metadata": {},
   "outputs": [],
   "source": []
  },
  {
   "cell_type": "raw",
   "id": "adc8683c-1ccc-4e86-8323-335b35cbdf8c",
   "metadata": {},
   "source": [
    "Q3. Which pythn statements are used to catch and handle exception  "
   ]
  },
  {
   "cell_type": "markdown",
   "id": "6b2ed917-bd00-4662-b93e-2186c2b1a2a1",
   "metadata": {},
   "source": [
    "The try and except block in Python is used to catch and handle exceptions. Python executes code following the try statement as a “normal” part of the program.\n"
   ]
  },
  {
   "cell_type": "markdown",
   "id": "2bac833b-fe36-4cd2-abcc-84d3b755d32b",
   "metadata": {},
   "source": [
    "Q4. Explain and example \n",
    "1. try andelse \n",
    "2. finally\n",
    "3. raise\n"
   ]
  },
  {
   "cell_type": "markdown",
   "id": "5d850f28-c81e-4577-9402-ef9334e24f28",
   "metadata": {},
   "source": [
    "##### Exception handling with try, except, else, and finally\n",
    "13. Try: This block will test the excepted error to occur\n",
    "2. Except:  Here you can handle the error\n",
    "3. Else: If there is no exception then this block will be executed\n",
    "4. Finally: Finally block always gets executed either exception is generated or not"
   ]
  },
  {
   "cell_type": "code",
   "execution_count": null,
   "id": "198c1542-643c-4790-bf4c-d226b0249136",
   "metadata": {},
   "outputs": [],
   "source": [
    "\n"
   ]
  },
  {
   "cell_type": "code",
   "execution_count": null,
   "id": "c6ffb4ac-2bb5-4766-9a22-d30d602c443a",
   "metadata": {},
   "outputs": [],
   "source": []
  },
  {
   "cell_type": "raw",
   "id": "7e0df9ce-c5ed-4c09-9030-b9fc0a816a11",
   "metadata": {},
   "source": [
    "Q5. what are custam Exception in python , why do we need custam Exception "
   ]
  },
  {
   "cell_type": "markdown",
   "id": "e0b687d4-2be1-4036-b7f3-c7971835b125",
   "metadata": {},
   "source": [
    "Introduction to the Python custom exception\n",
    "Like standard exception classes, custom exceptions are also classes. Hence, you can add functionality to the custom exception classes like: Adding attributes and properties. Adding methods e.g., log the exception, format the output, etc."
   ]
  },
  {
   "cell_type": "raw",
   "id": "6734873c-8c5f-403a-af1b-c25f8cba8285",
   "metadata": {},
   "source": [
    "Q6.Crete a custom exception class . use this class to handle an exception"
   ]
  },
  {
   "cell_type": "code",
   "execution_count": 2,
   "id": "d4d4e726-324a-4f29-bcc5-a545a69b315d",
   "metadata": {},
   "outputs": [
    {
     "name": "stdin",
     "output_type": "stream",
     "text": [
      "Enter a number:  45\n"
     ]
    },
    {
     "name": "stdout",
     "output_type": "stream",
     "text": [
      "Eligible to Vote\n"
     ]
    }
   ],
   "source": [
    "# define Python user-defined exceptions\n",
    "class InvalidAgeException(Exception):\n",
    "    \"Raised when the input value is less than 18\"\n",
    "    pass\n",
    "\n",
    "# you need to guess this number\n",
    "number = 18\n",
    "\n",
    "try:\n",
    "    input_num = int(input(\"Enter a number: \"))\n",
    "    if input_num < number:\n",
    "        raise InvalidAgeException\n",
    "    else:\n",
    "        print(\"Eligible to Vote\")\n",
    "        \n",
    "except InvalidAgeException:\n",
    "    print(\"Exception occurred: Invalid Age\")"
   ]
  },
  {
   "cell_type": "code",
   "execution_count": null,
   "id": "887b7a5a-df5f-4bda-be04-b258d9f7dc7b",
   "metadata": {},
   "outputs": [],
   "source": []
  }
 ],
 "metadata": {
  "kernelspec": {
   "display_name": "Python 3 (ipykernel)",
   "language": "python",
   "name": "python3"
  },
  "language_info": {
   "codemirror_mode": {
    "name": "ipython",
    "version": 3
   },
   "file_extension": ".py",
   "mimetype": "text/x-python",
   "name": "python",
   "nbconvert_exporter": "python",
   "pygments_lexer": "ipython3",
   "version": "3.10.8"
  }
 },
 "nbformat": 4,
 "nbformat_minor": 5
}
